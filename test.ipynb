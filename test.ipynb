{
 "cells": [
  {
   "cell_type": "code",
   "execution_count": 7,
   "metadata": {},
   "outputs": [
    {
     "data": {
      "text/plain": [
       "list"
      ]
     },
     "execution_count": 7,
     "metadata": {},
     "output_type": "execute_result"
    }
   ],
   "source": [
    "import json\n",
    "def load_data(file_path='university_faculty.json'):\n",
    "    try:\n",
    "        with open(file_path, 'r') as file:\n",
    "            return json.load(file)\n",
    "    except FileNotFoundError:\n",
    "        return {}  # Return an empty dictionary if no file exists\n",
    "\n",
    "# Load existing data if available\n",
    "university_faculty_dict = load_data()\n",
    "type(university_faculty_dict['Carnegie Mellon University'])"
   ]
  },
  {
   "cell_type": "code",
   "execution_count": null,
   "metadata": {},
   "outputs": [],
   "source": [
    "import json\n",
    "\n",
    "# Load the JSON data from a file\n",
    "with open('/home/zihan/Desktop/ProfessorGPT/university_faculty_AI.json', 'r') as file:\n",
    "    data = json.load(file)\n",
    "\n",
    "# New dictionary to hold the data by professor\n",
    "professors = {}\n",
    "\n",
    "# Iterate through the original data\n",
    "for university, details in data.items():\n",
    "    for professor_info in details:\n",
    "        # Extract information\n",
    "        name = professor_info[0]\n",
    "        url = professor_info[1]\n",
    "        description = professor_info[2] if len(professor_info) > 2 else \"No description available\"\n",
    "\n",
    "        # Append or create entry for each professor\n",
    "        if name not in professors:\n",
    "            professors[name] = []\n",
    "        professors[name].append({\n",
    "            'University': university,\n",
    "            'URL': url,\n",
    "            'Description': description\n",
    "        })\n",
    "\n",
    "# Optionally, print or save the data\n",
    "print(json.dumps(professors, indent=4))\n",
    "# If you want to write this to a file:\n",
    "with open('professors_by_name.json', 'w') as outfile:\n",
    "    json.dump(professors, outfile, indent=4)\n"
   ]
  },
  {
   "cell_type": "code",
   "execution_count": 2,
   "metadata": {},
   "outputs": [
    {
     "name": "stdout",
     "output_type": "stream",
     "text": [
      "Error encountered: Message: \n",
      "Stacktrace:\n",
      "#0 0x633d014086ba <unknown>\n",
      "#1 0x633d010d8730 <unknown>\n",
      "#2 0x633d01127d9b <unknown>\n",
      "#3 0x633d01128081 <unknown>\n",
      "#4 0x633d0116bcd4 <unknown>\n",
      "#5 0x633d0114aa7d <unknown>\n",
      "#6 0x633d011691ca <unknown>\n",
      "#7 0x633d0114a7f3 <unknown>\n",
      "#8 0x633d0111aec9 <unknown>\n",
      "#9 0x633d0111b91e <unknown>\n",
      "#10 0x633d013ce9eb <unknown>\n",
      "#11 0x633d013d2972 <unknown>\n",
      "#12 0x633d013bbe15 <unknown>\n",
      "#13 0x633d013d3502 <unknown>\n",
      "#14 0x633d013a0d2f <unknown>\n",
      "#15 0x633d013f7578 <unknown>\n",
      "#16 0x633d013f7750 <unknown>\n",
      "#17 0x633d0140748c <unknown>\n",
      "#18 0x7d32a5094ac3 <unknown>\n",
      "\n"
     ]
    }
   ],
   "source": [
    "## Get Website specific professor\n",
    "## This file 需要手动扒拉扒拉， 半自动的， 所以需要有UI界面才能用\n",
    "\n",
    "from selenium import webdriver\n",
    "from selenium.webdriver.common.by import By\n",
    "from selenium.webdriver.chrome.options import Options\n",
    "from selenium.webdriver.support.ui import WebDriverWait\n",
    "from selenium.webdriver.support import expected_conditions as EC\n",
    "from selenium.webdriver.common.keys import Keys\n",
    "import re\n",
    "import time\n",
    "import random\n",
    "\n",
    "\n",
    "\n",
    "user_agents = [\n",
    "    \"Mozilla/5.0 (Windows NT 10.0; Win64; x64) AppleWebKit/537.36 (KHTML, like Gecko) Chrome/93.0.4577.63 Safari/537.36\",\n",
    "    \"Mozilla/5.0 (Windows NT 10.0; Win64; x64) AppleWebKit/537.36 (KHTML, like Gecko) Edge/93.0.961.47 Safari/537.36\",\n",
    "    \"Mozilla/5.0 (Windows NT 10.0; Win64; x64; rv:91.0) Gecko/20100101 Firefox/91.0\",\n",
    "]\n",
    "\n",
    "def get_webdriver():\n",
    "    random_user_agent = random.choice(user_agents)\n",
    "    options = Options()\n",
    "    options.add_argument(f\"user-agent={random_user_agent}\")\n",
    "    options.add_argument(\"--headless\")\n",
    "    options.add_argument(\"--no-sandbox\")\n",
    "    options.add_argument(\"--disable-dev-shm-usage\")\n",
    "    options.add_argument(\"--disable-gpu\")\n",
    "    options.add_argument(\"--disable-features=NetworkService\")\n",
    "    options.add_argument(\"--window-size=1920x1080\")\n",
    "    options.add_argument(\"--disable-features=VizDisplayCompositor\")\n",
    "    options.add_argument(\"--log-level=3\")\n",
    "    options.add_argument('--ignore-certificate-errors')\n",
    "\n",
    "    # Disable images to speed up tests\n",
    "    prefs = {\"profile.managed_default_content_settings.images\": 2}\n",
    "    options.add_experimental_option(\"prefs\", prefs)\n",
    "\n",
    "    driver = webdriver.Chrome(options=options)\n",
    "    return driver\n",
    "\n",
    "\n",
    "\n",
    "driver = get_webdriver()\n",
    "driver.get('https://csrankings.org/#/index?ai&vision&mlmining&nlp&inforet&us')\n",
    "\n",
    "university_faculty_dict = {}\n",
    "\n",
    "try:\n",
    "  # Wait for the rankings table to be visible\n",
    "  WebDriverWait(driver, 20).until(EC.visibility_of_element_located((By.ID, 'body')))\n",
    "  time.sleep(2)  # Wait for dynamic content to load\n",
    "\n",
    "  for i in range(1, 43):\n",
    "    # Get faculty names\n",
    "    faculty_elements = driver.find_elements(By.XPATH, f'//*[@id=\"body\"]/div/main/div/div/div[2]/div/div/article/div/div/div[1]/div/div/div/div/div/div/div[2]/div/div[{i}]/div/span/div/div[1]/a')\n",
    "    for faculty_element in faculty_elements:\n",
    "      # Extract faculty name from the element (replace with appropriate selector)\n",
    "      faculty_name = faculty_element.find_element(By.CLASS_NAME, \"faculty-name\").text  # Replace with appropriate class/tag\n",
    "      university_faculty_dict[faculty_name] = \"University Name\"  # Update with actual university name\n",
    "      \n",
    "except Exception as e:\n",
    "  print(f\"Error encountered: {e}\")\n",
    "\n",
    "finally:\n",
    "  driver.quit()"
   ]
  },
  {
   "cell_type": "code",
   "execution_count": 4,
   "metadata": {},
   "outputs": [],
   "source": [
    "import json\n",
    "def load_data(file_path='./input/professors_by_name.json'):\n",
    "    try:\n",
    "        with open(file_path, 'r') as file:\n",
    "            return json.load(file)\n",
    "    except FileNotFoundError:\n",
    "        return {}  # Return an empty dictionary if no file exists\n",
    "\n",
    "# Load existing data if available\n",
    "university_faculty_dict = load_data()"
   ]
  },
  {
   "cell_type": "code",
   "execution_count": 7,
   "metadata": {},
   "outputs": [
    {
     "name": "stdout",
     "output_type": "stream",
     "text": [
      "Information for each professor has been saved to the '/home/zihan/Desktop/ProfessorGPT/input' directory.\n"
     ]
    }
   ],
   "source": [
    "import os\n",
    "\n",
    "# The data for the professors\n",
    "professors = university_faculty_dict\n",
    "\n",
    "# Create a directory to store the text files\n",
    "output_dir = \"/home/zihan/Desktop/ProfessorGPT/input\"\n",
    "os.makedirs(output_dir, exist_ok=True)\n",
    "\n",
    "# Function to save professor info to a text file\n",
    "def save_professor_info(professor_name, info):\n",
    "    filename = os.path.join(output_dir, f\"{professor_name.replace(' ', '_')}.txt\")\n",
    "    with open(filename, 'w', encoding='utf-8') as file:\n",
    "        for entry in info:\n",
    "            file.write(f\"Professor: {professor_name}\\n\")\n",
    "            file.write(f\"University: {entry['University']}\\n\")\n",
    "            file.write(f\"URL: {entry['URL']}\\n\")\n",
    "            file.write(f\"Description: {entry['Description']}\\n\")\n",
    "            file.write(\"\\n\")\n",
    "\n",
    "# Save each professor's information to a separate text file\n",
    "for professor, info in professors.items():\n",
    "    save_professor_info(professor, info)\n",
    "\n",
    "print(f\"Information for each professor has been saved to the '{output_dir}' directory.\")"
   ]
  }
 ],
 "metadata": {
  "kernelspec": {
   "display_name": "base",
   "language": "python",
   "name": "python3"
  },
  "language_info": {
   "codemirror_mode": {
    "name": "ipython",
    "version": 3
   },
   "file_extension": ".py",
   "mimetype": "text/x-python",
   "name": "python",
   "nbconvert_exporter": "python",
   "pygments_lexer": "ipython3",
   "version": "3.11.5"
  }
 },
 "nbformat": 4,
 "nbformat_minor": 2
}
